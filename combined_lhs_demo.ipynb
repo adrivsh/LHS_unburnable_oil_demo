{
 "cells": [
  {
   "cell_type": "code",
   "execution_count": 268,
   "metadata": {
    "collapsed": false
   },
   "outputs": [
    {
     "name": "stdout",
     "output_type": "stream",
     "text": [
      "The autoreload extension is already loaded. To reload it, use:\n",
      "  %reload_ext autoreload\n"
     ]
    }
   ],
   "source": [
    "%matplotlib inline\n",
    "%load_ext autoreload\n",
    "\n",
    "%autoreload 2\n",
    "\n",
    "import pandas as pd\n",
    "import numpy as np\n",
    "import pyDOE\n",
    "\n",
    "import seaborn as sns\n",
    "from pandas_helper import *\n",
    "\n",
    "\n",
    "from generate_doe import *\n",
    "\n",
    "#ploting capacities\n",
    "import matplotlib.pyplot as plt \n",
    "#make plots appear in this notebook\n",
    "%matplotlib inline  \n",
    "\n",
    "#Default options for plots: \n",
    "#this controls the font used in the legend\n",
    "font = {'family' : 'sans serif',\n",
    "    'size'   : 22}\n",
    "plt.rc('font', **font)"
   ]
  },
  {
   "cell_type": "code",
   "execution_count": 269,
   "metadata": {
    "collapsed": true
   },
   "outputs": [],
   "source": [
    "def cartesian(df1, df2):\n",
    "    rows = itertools.product(df1.iterrows(), df2.iterrows())\n",
    "\n",
    "    df = pd.DataFrame(left.append(right) for (_, left), (_, right) in rows)\n",
    "    return df.reset_index(drop=True)"
   ]
  },
  {
   "cell_type": "markdown",
   "metadata": {},
   "source": [
    "# number of simulations we can afford"
   ]
  },
  {
   "cell_type": "code",
   "execution_count": 270,
   "metadata": {
    "collapsed": true
   },
   "outputs": [],
   "source": [
    "n_sample=300"
   ]
  },
  {
   "cell_type": "markdown",
   "metadata": {},
   "source": [
    "# weighted case"
   ]
  },
  {
   "cell_type": "code",
   "execution_count": 271,
   "metadata": {
    "collapsed": true
   },
   "outputs": [],
   "source": [
    "## dimensions we want to cover"
   ]
  },
  {
   "cell_type": "code",
   "execution_count": 272,
   "metadata": {
    "collapsed": false
   },
   "outputs": [
    {
     "data": {
      "text/html": [
       "<div>\n",
       "<style scoped>\n",
       "    .dataframe tbody tr th:only-of-type {\n",
       "        vertical-align: middle;\n",
       "    }\n",
       "\n",
       "    .dataframe tbody tr th {\n",
       "        vertical-align: top;\n",
       "    }\n",
       "\n",
       "    .dataframe thead th {\n",
       "        text-align: right;\n",
       "    }\n",
       "</style>\n",
       "<table border=\"1\" class=\"dataframe\">\n",
       "  <thead>\n",
       "    <tr style=\"text-align: right;\">\n",
       "      <th></th>\n",
       "      <th>demand</th>\n",
       "      <th>OPEC</th>\n",
       "    </tr>\n",
       "  </thead>\n",
       "  <tbody>\n",
       "    <tr>\n",
       "      <th>0</th>\n",
       "      <td>low_1.5</td>\n",
       "      <td>opec_full</td>\n",
       "    </tr>\n",
       "    <tr>\n",
       "      <th>1</th>\n",
       "      <td>med_2</td>\n",
       "      <td>opec_contrained</td>\n",
       "    </tr>\n",
       "    <tr>\n",
       "      <th>2</th>\n",
       "      <td>high_3</td>\n",
       "      <td>NaN</td>\n",
       "    </tr>\n",
       "  </tbody>\n",
       "</table>\n",
       "</div>"
      ],
      "text/plain": [
       "    demand             OPEC\n",
       "0  low_1.5        opec_full\n",
       "1    med_2  opec_contrained\n",
       "2   high_3              NaN"
      ]
     },
     "execution_count": 272,
     "metadata": {},
     "output_type": "execute_result"
    }
   ],
   "source": [
    "doe_params_simple  = pd.read_excel(\"doe_parameters_combined.xlsx\", sheet_name=\"simple_dimensions\")\n",
    "doe_params_simple"
   ]
  },
  {
   "cell_type": "code",
   "execution_count": 273,
   "metadata": {
    "collapsed": false
   },
   "outputs": [
    {
     "data": {
      "text/html": [
       "<div>\n",
       "<style scoped>\n",
       "    .dataframe tbody tr th:only-of-type {\n",
       "        vertical-align: middle;\n",
       "    }\n",
       "\n",
       "    .dataframe tbody tr th {\n",
       "        vertical-align: top;\n",
       "    }\n",
       "\n",
       "    .dataframe thead th {\n",
       "        text-align: right;\n",
       "    }\n",
       "</style>\n",
       "<table border=\"1\" class=\"dataframe\">\n",
       "  <thead>\n",
       "    <tr style=\"text-align: right;\">\n",
       "      <th>dim</th>\n",
       "      <th>fiscal_pressure</th>\n",
       "      <th>fiscal_regime</th>\n",
       "    </tr>\n",
       "    <tr>\n",
       "      <th>case</th>\n",
       "      <th></th>\n",
       "      <th></th>\n",
       "    </tr>\n",
       "  </thead>\n",
       "  <tbody>\n",
       "    <tr>\n",
       "      <th>0</th>\n",
       "      <td>fiscal_low</td>\n",
       "      <td>fi_A</td>\n",
       "    </tr>\n",
       "    <tr>\n",
       "      <th>1</th>\n",
       "      <td>fiscal_high</td>\n",
       "      <td>fi_B</td>\n",
       "    </tr>\n",
       "    <tr>\n",
       "      <th>2</th>\n",
       "      <td>NaN</td>\n",
       "      <td>fi_C</td>\n",
       "    </tr>\n",
       "  </tbody>\n",
       "</table>\n",
       "</div>"
      ],
      "text/plain": [
       "dim  fiscal_pressure fiscal_regime\n",
       "case                              \n",
       "0         fiscal_low          fi_A\n",
       "1        fiscal_high          fi_B\n",
       "2                NaN          fi_C"
      ]
     },
     "execution_count": 273,
     "metadata": {},
     "output_type": "execute_result"
    }
   ],
   "source": [
    "doe_params_coump  = pd.read_excel(\"doe_parameters_combined.xlsx\", sheet_name=\"coumpounded_dimensions\")\n",
    "doe_params_coump.columns.name = \"dim\"\n",
    "doe_params_coump.index.name = \"case\"\n",
    "doe_params_coump"
   ]
  },
  {
   "cell_type": "code",
   "execution_count": 274,
   "metadata": {
    "collapsed": false
   },
   "outputs": [
    {
     "data": {
      "text/plain": [
       "country\n",
       "Brazil       1groupSEP\n",
       "Colombia     2groupSEP\n",
       "Venezuela    3groupSEP\n",
       "trinindad    4groupSEP\n",
       "uruguay      4groupSEP\n",
       "Name: group, dtype: object"
      ]
     },
     "execution_count": 274,
     "metadata": {},
     "output_type": "execute_result"
    }
   ],
   "source": [
    "country_gp = pd.read_excel(\"doe_parameters_combined.xlsx\", sheet_name=\"country_group\").set_index(\"country\").squeeze()\n",
    "country_gp.index.name = \"country\"\n",
    "country_gp\n"
   ]
  },
  {
   "cell_type": "markdown",
   "metadata": {},
   "source": [
    "# simple DOE using one dimension per variable"
   ]
  },
  {
   "cell_type": "code",
   "execution_count": 275,
   "metadata": {
    "collapsed": false
   },
   "outputs": [
    {
     "data": {
      "text/html": [
       "<div>\n",
       "<style scoped>\n",
       "    .dataframe tbody tr th:only-of-type {\n",
       "        vertical-align: middle;\n",
       "    }\n",
       "\n",
       "    .dataframe tbody tr th {\n",
       "        vertical-align: top;\n",
       "    }\n",
       "\n",
       "    .dataframe thead th {\n",
       "        text-align: right;\n",
       "    }\n",
       "</style>\n",
       "<table border=\"1\" class=\"dataframe\">\n",
       "  <thead>\n",
       "    <tr style=\"text-align: right;\">\n",
       "      <th>dim</th>\n",
       "      <th>fiscal_pressure</th>\n",
       "      <th>fiscal_regime</th>\n",
       "    </tr>\n",
       "    <tr>\n",
       "      <th>case</th>\n",
       "      <th></th>\n",
       "      <th></th>\n",
       "    </tr>\n",
       "  </thead>\n",
       "  <tbody>\n",
       "    <tr>\n",
       "      <th>0</th>\n",
       "      <td>fiscal_low</td>\n",
       "      <td>fi_A</td>\n",
       "    </tr>\n",
       "    <tr>\n",
       "      <th>1</th>\n",
       "      <td>fiscal_high</td>\n",
       "      <td>fi_B</td>\n",
       "    </tr>\n",
       "    <tr>\n",
       "      <th>2</th>\n",
       "      <td>NaN</td>\n",
       "      <td>fi_C</td>\n",
       "    </tr>\n",
       "  </tbody>\n",
       "</table>\n",
       "</div>"
      ],
      "text/plain": [
       "dim  fiscal_pressure fiscal_regime\n",
       "case                              \n",
       "0         fiscal_low          fi_A\n",
       "1        fiscal_high          fi_B\n",
       "2                NaN          fi_C"
      ]
     },
     "execution_count": 275,
     "metadata": {},
     "output_type": "execute_result"
    }
   ],
   "source": [
    "doe_params_coump"
   ]
  },
  {
   "cell_type": "code",
   "execution_count": 276,
   "metadata": {
    "collapsed": false
   },
   "outputs": [
    {
     "data": {
      "text/html": [
       "<div>\n",
       "<style scoped>\n",
       "    .dataframe tbody tr th:only-of-type {\n",
       "        vertical-align: middle;\n",
       "    }\n",
       "\n",
       "    .dataframe tbody tr th {\n",
       "        vertical-align: top;\n",
       "    }\n",
       "\n",
       "    .dataframe thead th {\n",
       "        text-align: right;\n",
       "    }\n",
       "</style>\n",
       "<table border=\"1\" class=\"dataframe\">\n",
       "  <thead>\n",
       "    <tr style=\"text-align: right;\">\n",
       "      <th></th>\n",
       "      <th>demand</th>\n",
       "      <th>OPEC</th>\n",
       "      <th>Brazil_fiscal_pressure</th>\n",
       "      <th>Brazil_fiscal_regime</th>\n",
       "      <th>Colombia_fiscal_pressure</th>\n",
       "      <th>Colombia_fiscal_regime</th>\n",
       "      <th>Venezuela_fiscal_pressure</th>\n",
       "      <th>Venezuela_fiscal_regime</th>\n",
       "      <th>trinindad_fiscal_pressure</th>\n",
       "      <th>trinindad_fiscal_regime</th>\n",
       "      <th>uruguay_fiscal_pressure</th>\n",
       "      <th>uruguay_fiscal_regime</th>\n",
       "    </tr>\n",
       "  </thead>\n",
       "  <tbody>\n",
       "    <tr>\n",
       "      <th>0</th>\n",
       "      <td>low_1.5</td>\n",
       "      <td>opec_full</td>\n",
       "      <td>fiscal_low</td>\n",
       "      <td>fi_A</td>\n",
       "      <td>fiscal_low</td>\n",
       "      <td>fi_A</td>\n",
       "      <td>fiscal_low</td>\n",
       "      <td>fi_A</td>\n",
       "      <td>fiscal_low</td>\n",
       "      <td>fi_A</td>\n",
       "      <td>fiscal_low</td>\n",
       "      <td>fi_A</td>\n",
       "    </tr>\n",
       "    <tr>\n",
       "      <th>1</th>\n",
       "      <td>med_2</td>\n",
       "      <td>opec_contrained</td>\n",
       "      <td>fiscal_high</td>\n",
       "      <td>fi_B</td>\n",
       "      <td>fiscal_high</td>\n",
       "      <td>fi_B</td>\n",
       "      <td>fiscal_high</td>\n",
       "      <td>fi_B</td>\n",
       "      <td>fiscal_high</td>\n",
       "      <td>fi_B</td>\n",
       "      <td>fiscal_high</td>\n",
       "      <td>fi_B</td>\n",
       "    </tr>\n",
       "    <tr>\n",
       "      <th>2</th>\n",
       "      <td>high_3</td>\n",
       "      <td>NaN</td>\n",
       "      <td>NaN</td>\n",
       "      <td>fi_C</td>\n",
       "      <td>NaN</td>\n",
       "      <td>fi_C</td>\n",
       "      <td>NaN</td>\n",
       "      <td>fi_C</td>\n",
       "      <td>NaN</td>\n",
       "      <td>fi_C</td>\n",
       "      <td>NaN</td>\n",
       "      <td>fi_C</td>\n",
       "    </tr>\n",
       "  </tbody>\n",
       "</table>\n",
       "</div>"
      ],
      "text/plain": [
       "    demand             OPEC Brazil_fiscal_pressure Brazil_fiscal_regime  \\\n",
       "0  low_1.5        opec_full             fiscal_low                 fi_A   \n",
       "1    med_2  opec_contrained            fiscal_high                 fi_B   \n",
       "2   high_3              NaN                    NaN                 fi_C   \n",
       "\n",
       "  Colombia_fiscal_pressure Colombia_fiscal_regime Venezuela_fiscal_pressure  \\\n",
       "0               fiscal_low                   fi_A                fiscal_low   \n",
       "1              fiscal_high                   fi_B               fiscal_high   \n",
       "2                      NaN                   fi_C                       NaN   \n",
       "\n",
       "  Venezuela_fiscal_regime trinindad_fiscal_pressure trinindad_fiscal_regime  \\\n",
       "0                    fi_A                fiscal_low                    fi_A   \n",
       "1                    fi_B               fiscal_high                    fi_B   \n",
       "2                    fi_C                       NaN                    fi_C   \n",
       "\n",
       "  uruguay_fiscal_pressure uruguay_fiscal_regime  \n",
       "0              fiscal_low                  fi_A  \n",
       "1             fiscal_high                  fi_B  \n",
       "2                     NaN                  fi_C  "
      ]
     },
     "execution_count": 276,
     "metadata": {},
     "output_type": "execute_result"
    }
   ],
   "source": [
    "coumpounded_dims =broadcast_simple(doe_params_coump.stack(), country_gp.index).unstack().unstack()\n",
    "coumpounded_dims\n",
    "\n",
    "doe_params = pd.concat([doe_params_simple, \n",
    "                                             collapse_multi_colum(coumpounded_dims)],\n",
    "                                            axis=1)\n",
    "doe_params\n"
   ]
  },
  {
   "cell_type": "code",
   "execution_count": 277,
   "metadata": {
    "collapsed": false
   },
   "outputs": [
    {
     "name": "stdout",
     "output_type": "stream",
     "text": [
      "new candidate solution found with max,abs corrcoef = 0.963931796929975\n"
     ]
    }
   ],
   "source": [
    "norm_doe = generate_raw_doe(n_sample,doe_params, verbose=False)"
   ]
  },
  {
   "cell_type": "code",
   "execution_count": 278,
   "metadata": {
    "collapsed": false
   },
   "outputs": [
    {
     "data": {
      "image/png": "[encoded data removed]",
      "text/plain": [
       "<Figure size 792x792 with 2 Axes>"
      ]
     },
     "metadata": {},
     "output_type": "display_data"
    }
   ],
   "source": [
    "df= map_doe_to_labels (norm_doe, doe_params, numeric=True)\n",
    "correlation_matrix(df)"
   ]
  },
  {
   "cell_type": "code",
   "execution_count": 279,
   "metadata": {
    "collapsed": false
   },
   "outputs": [
    {
     "data": {
      "text/html": [
       "<div>\n",
       "<style scoped>\n",
       "    .dataframe tbody tr th:only-of-type {\n",
       "        vertical-align: middle;\n",
       "    }\n",
       "\n",
       "    .dataframe tbody tr th {\n",
       "        vertical-align: top;\n",
       "    }\n",
       "\n",
       "    .dataframe thead th {\n",
       "        text-align: right;\n",
       "    }\n",
       "</style>\n",
       "<table border=\"1\" class=\"dataframe\">\n",
       "  <thead>\n",
       "    <tr style=\"text-align: right;\">\n",
       "      <th></th>\n",
       "      <th>demand</th>\n",
       "      <th>OPEC</th>\n",
       "      <th>Brazil_fiscal_pressure</th>\n",
       "      <th>Brazil_fiscal_regime</th>\n",
       "      <th>Colombia_fiscal_pressure</th>\n",
       "      <th>Colombia_fiscal_regime</th>\n",
       "      <th>Venezuela_fiscal_pressure</th>\n",
       "      <th>Venezuela_fiscal_regime</th>\n",
       "      <th>trinindad_fiscal_pressure</th>\n",
       "      <th>trinindad_fiscal_regime</th>\n",
       "      <th>uruguay_fiscal_pressure</th>\n",
       "      <th>uruguay_fiscal_regime</th>\n",
       "    </tr>\n",
       "  </thead>\n",
       "  <tbody>\n",
       "    <tr>\n",
       "      <th>count</th>\n",
       "      <td>300</td>\n",
       "      <td>300</td>\n",
       "      <td>300</td>\n",
       "      <td>300</td>\n",
       "      <td>300</td>\n",
       "      <td>300</td>\n",
       "      <td>300</td>\n",
       "      <td>300</td>\n",
       "      <td>300</td>\n",
       "      <td>300</td>\n",
       "      <td>300</td>\n",
       "      <td>300</td>\n",
       "    </tr>\n",
       "    <tr>\n",
       "      <th>unique</th>\n",
       "      <td>3</td>\n",
       "      <td>2</td>\n",
       "      <td>2</td>\n",
       "      <td>3</td>\n",
       "      <td>2</td>\n",
       "      <td>3</td>\n",
       "      <td>2</td>\n",
       "      <td>3</td>\n",
       "      <td>2</td>\n",
       "      <td>3</td>\n",
       "      <td>2</td>\n",
       "      <td>3</td>\n",
       "    </tr>\n",
       "    <tr>\n",
       "      <th>top</th>\n",
       "      <td>med_2</td>\n",
       "      <td>opec_contrained</td>\n",
       "      <td>fiscal_high</td>\n",
       "      <td>fi_A</td>\n",
       "      <td>fiscal_high</td>\n",
       "      <td>fi_C</td>\n",
       "      <td>fiscal_high</td>\n",
       "      <td>fi_C</td>\n",
       "      <td>fiscal_high</td>\n",
       "      <td>fi_A</td>\n",
       "      <td>fiscal_high</td>\n",
       "      <td>fi_A</td>\n",
       "    </tr>\n",
       "    <tr>\n",
       "      <th>freq</th>\n",
       "      <td>100</td>\n",
       "      <td>150</td>\n",
       "      <td>150</td>\n",
       "      <td>101</td>\n",
       "      <td>150</td>\n",
       "      <td>101</td>\n",
       "      <td>150</td>\n",
       "      <td>101</td>\n",
       "      <td>150</td>\n",
       "      <td>100</td>\n",
       "      <td>150</td>\n",
       "      <td>100</td>\n",
       "    </tr>\n",
       "  </tbody>\n",
       "</table>\n",
       "</div>"
      ],
      "text/plain": [
       "       demand             OPEC Brazil_fiscal_pressure Brazil_fiscal_regime  \\\n",
       "count     300              300                    300                  300   \n",
       "unique      3                2                      2                    3   \n",
       "top     med_2  opec_contrained            fiscal_high                 fi_A   \n",
       "freq      100              150                    150                  101   \n",
       "\n",
       "       Colombia_fiscal_pressure Colombia_fiscal_regime  \\\n",
       "count                       300                    300   \n",
       "unique                        2                      3   \n",
       "top                 fiscal_high                   fi_C   \n",
       "freq                        150                    101   \n",
       "\n",
       "       Venezuela_fiscal_pressure Venezuela_fiscal_regime  \\\n",
       "count                        300                     300   \n",
       "unique                         2                       3   \n",
       "top                  fiscal_high                    fi_C   \n",
       "freq                         150                     101   \n",
       "\n",
       "       trinindad_fiscal_pressure trinindad_fiscal_regime  \\\n",
       "count                        300                     300   \n",
       "unique                         2                       3   \n",
       "top                  fiscal_high                    fi_A   \n",
       "freq                         150                     100   \n",
       "\n",
       "       uruguay_fiscal_pressure uruguay_fiscal_regime  \n",
       "count                      300                   300  \n",
       "unique                       2                     3  \n",
       "top                fiscal_high                  fi_A  \n",
       "freq                       150                   100  "
      ]
     },
     "execution_count": 279,
     "metadata": {},
     "output_type": "execute_result"
    }
   ],
   "source": [
    "df= map_doe_to_labels (norm_doe, doe_params, numeric=False).astype(str)\n",
    "\n",
    "df.describe()"
   ]
  },
  {
   "cell_type": "code",
   "execution_count": 280,
   "metadata": {
    "collapsed": false
   },
   "outputs": [
    {
     "data": {
      "text/plain": [
       "Braz-fi_B                99.0\n",
       "Colo-fi_B                99.0\n",
       "Vene-fi_B                99.0\n",
       "Braz-fi_C               100.0\n",
       "urug-fi_C               100.0\n",
       "urug-fi_B               100.0\n",
       "Colo-fi_A               100.0\n",
       "urug-fi_A               100.0\n",
       "trin-fi_C               100.0\n",
       "trin-fi_B               100.0\n",
       "trin-fi_A               100.0\n",
       "dema-med_2              100.0\n",
       "Vene-fi_A               100.0\n",
       "dema-low_1.5            100.0\n",
       "dema-high_3             100.0\n",
       "Braz-fi_A               101.0\n",
       "Vene-fi_C               101.0\n",
       "Colo-fi_C               101.0\n",
       "Vene-fiscal_high        150.0\n",
       "urug-fiscal_high        150.0\n",
       "OPEC-opec_full          150.0\n",
       "OPEC-opec_contrained    150.0\n",
       "Colo-fiscal_low         150.0\n",
       "Colo-fiscal_high        150.0\n",
       "trin-fiscal_high        150.0\n",
       "trin-fiscal_low         150.0\n",
       "Braz-fiscal_low         150.0\n",
       "Braz-fiscal_high        150.0\n",
       "Vene-fiscal_low         150.0\n",
       "urug-fiscal_low         150.0\n",
       "dtype: float64"
      ]
     },
     "execution_count": 280,
     "metadata": {},
     "output_type": "execute_result"
    }
   ],
   "source": [
    "for c in df:\n",
    "    df[c] = c[:4]+'-'+df[c] \n",
    "\n",
    "\n",
    "df.apply(pd.value_counts).sum(axis=1).sort_values()"
   ]
  },
  {
   "cell_type": "markdown",
   "metadata": {
    "collapsed": true
   },
   "source": [
    "#  DOE grouping some variables in comon dimenion"
   ]
  },
  {
   "cell_type": "code",
   "execution_count": null,
   "metadata": {
    "collapsed": false
   },
   "outputs": [
    {
     "data": {
      "text/html": [
       "<div>\n",
       "<style scoped>\n",
       "    .dataframe tbody tr th:only-of-type {\n",
       "        vertical-align: middle;\n",
       "    }\n",
       "\n",
       "    .dataframe tbody tr th {\n",
       "        vertical-align: top;\n",
       "    }\n",
       "\n",
       "    .dataframe thead th {\n",
       "        text-align: right;\n",
       "    }\n",
       "</style>\n",
       "<table border=\"1\" class=\"dataframe\">\n",
       "  <thead>\n",
       "    <tr style=\"text-align: right;\">\n",
       "      <th></th>\n",
       "      <th>demand</th>\n",
       "      <th>OPEC</th>\n",
       "      <th>1groupSEPç_\\$_fiscal_pressure</th>\n",
       "      <th>1groupSEPç_\\$_fiscal_regime</th>\n",
       "      <th>2groupSEPç_\\$_fiscal_pressure</th>\n",
       "      <th>2groupSEPç_\\$_fiscal_regime</th>\n",
       "      <th>3groupSEPç_\\$_fiscal_pressure</th>\n",
       "      <th>3groupSEPç_\\$_fiscal_regime</th>\n",
       "      <th>4groupSEPç_\\$_fiscal_pressure</th>\n",
       "      <th>4groupSEPç_\\$_fiscal_regime</th>\n",
       "    </tr>\n",
       "  </thead>\n",
       "  <tbody>\n",
       "    <tr>\n",
       "      <th>0</th>\n",
       "      <td>low_1.5</td>\n",
       "      <td>opec_full</td>\n",
       "      <td>fiscal_low</td>\n",
       "      <td>fi_A</td>\n",
       "      <td>fiscal_low</td>\n",
       "      <td>fi_A</td>\n",
       "      <td>fiscal_low</td>\n",
       "      <td>fi_A</td>\n",
       "      <td>fiscal_low</td>\n",
       "      <td>fi_A</td>\n",
       "    </tr>\n",
       "    <tr>\n",
       "      <th>1</th>\n",
       "      <td>med_2</td>\n",
       "      <td>opec_contrained</td>\n",
       "      <td>fiscal_high</td>\n",
       "      <td>fi_B</td>\n",
       "      <td>fiscal_high</td>\n",
       "      <td>fi_B</td>\n",
       "      <td>fiscal_high</td>\n",
       "      <td>fi_B</td>\n",
       "      <td>fiscal_high</td>\n",
       "      <td>fi_B</td>\n",
       "    </tr>\n",
       "    <tr>\n",
       "      <th>2</th>\n",
       "      <td>high_3</td>\n",
       "      <td>NaN</td>\n",
       "      <td>NaN</td>\n",
       "      <td>fi_C</td>\n",
       "      <td>NaN</td>\n",
       "      <td>fi_C</td>\n",
       "      <td>NaN</td>\n",
       "      <td>fi_C</td>\n",
       "      <td>NaN</td>\n",
       "      <td>fi_C</td>\n",
       "    </tr>\n",
       "  </tbody>\n",
       "</table>\n",
       "</div>"
      ],
      "text/plain": [
       "    demand             OPEC 1groupSEPç_\\$_fiscal_pressure  \\\n",
       "0  low_1.5        opec_full                    fiscal_low   \n",
       "1    med_2  opec_contrained                   fiscal_high   \n",
       "2   high_3              NaN                           NaN   \n",
       "\n",
       "  1groupSEPç_\\$_fiscal_regime 2groupSEPç_\\$_fiscal_pressure  \\\n",
       "0                        fi_A                    fiscal_low   \n",
       "1                        fi_B                   fiscal_high   \n",
       "2                        fi_C                           NaN   \n",
       "\n",
       "  2groupSEPç_\\$_fiscal_regime 3groupSEPç_\\$_fiscal_pressure  \\\n",
       "0                        fi_A                    fiscal_low   \n",
       "1                        fi_B                   fiscal_high   \n",
       "2                        fi_C                           NaN   \n",
       "\n",
       "  3groupSEPç_\\$_fiscal_regime 4groupSEPç_\\$_fiscal_pressure  \\\n",
       "0                        fi_A                    fiscal_low   \n",
       "1                        fi_B                   fiscal_high   \n",
       "2                        fi_C                           NaN   \n",
       "\n",
       "  4groupSEPç_\\$_fiscal_regime  \n",
       "0                        fi_A  \n",
       "1                        fi_B  \n",
       "2                        fi_C  "
      ]
     },
     "execution_count": 281,
     "metadata": {},
     "output_type": "execute_result"
    }
   ],
   "source": [
    "sep = \"ç_\\$\"\n",
    "\n",
    "#this time we take the country groups, not the country, to multiply the dimensons\n",
    "coumpounded_dims =broadcast_simple(doe_params_coump.stack(), country_gp+sep).unstack().unstack()\n",
    "coumpounded_dims\n",
    "\n",
    "doe_params = pd.concat([doe_params_simple, \n",
    "                                             collapse_multi_colum(coumpounded_dims)],\n",
    "                                            axis=1)\n",
    "doe_params"
   ]
  },
  {
   "cell_type": "code",
   "execution_count": null,
   "metadata": {
    "collapsed": false
   },
   "outputs": [
    {
     "name": "stdout",
     "output_type": "stream",
     "text": [
      "new candidate solution found with max,abs corrcoef = 0.9664076569879544\n"
     ]
    }
   ],
   "source": [
    "norm_doe = generate_raw_doe(n_sample,doe_params, verbose=False)"
   ]
  },
  {
   "cell_type": "code",
   "execution_count": null,
   "metadata": {
    "collapsed": false
   },
   "outputs": [],
   "source": [
    "df= map_doe_to_labels (norm_doe, doe_params, numeric=True)\n",
    "df.dtypes\n",
    "df.describe()\n",
    "\n",
    "df.columns = pd.MultiIndex.from_tuples([k.split(sep+\"_\") for k in df])\n",
    "df = df.rename(columns={np.nan:\"\"})\n",
    "# [process_index(c) for c in df]\n",
    "df.head()\n",
    "\n",
    "\n",
    "\n",
    "\n",
    "a = df.stack(1)\n",
    "a\n",
    "for i in country_gp.index:\n",
    "    a[i] = a[country_gp[i]]\n",
    "\n",
    "for c in country_gp.unique():\n",
    "    a = a.drop(c,axis=1)\n",
    "\n",
    "df =collapse_multi_colum(a.unstack()).dropna(how=\"all\",axis=1).rename(columns= lambda s:s.strip(\"_\"))\n",
    "correlation_matrix(df)"
   ]
  },
  {
   "cell_type": "code",
   "execution_count": null,
   "metadata": {
    "collapsed": false
   },
   "outputs": [],
   "source": [
    "mat = df.corr().abs().values\n",
    "# np.fill_diagonal(mat, 0)\n",
    "# corr=pd.DataFrame(mat, index=df.columns, columns=df.columns)\n",
    "mat"
   ]
  },
  {
   "cell_type": "code",
   "execution_count": null,
   "metadata": {
    "collapsed": true
   },
   "outputs": [],
   "source": []
  }
 ],
 "metadata": {
  "kernelspec": {
   "display_name": "Python 3",
   "language": "python",
   "name": "python3"
  },
  "language_info": {
   "codemirror_mode": {
    "name": "ipython",
    "version": 3
   },
   "file_extension": ".py",
   "mimetype": "text/x-python",
   "name": "python",
   "nbconvert_exporter": "python",
   "pygments_lexer": "ipython3",
   "version": "3.6.8"
  },
  "toc": {
   "colors": {
    "hover_highlight": "#DAA520",
    "navigate_num": "#000000",
    "navigate_text": "#333333",
    "running_highlight": "#FF0000",
    "selected_highlight": "#FFD700",
    "sidebar_border": "#EEEEEE",
    "wrapper_background": "#FFFFFF"
   },
   "moveMenuLeft": true,
   "nav_menu": {
    "height": "84px",
    "width": "252px"
   },
   "navigate_menu": true,
   "number_sections": true,
   "sideBar": true,
   "threshold": 4,
   "toc_cell": false,
   "toc_section_display": "block",
   "toc_window_display": false,
   "widenNotebook": false
  }
 },
 "nbformat": 4,
 "nbformat_minor": 2
}
