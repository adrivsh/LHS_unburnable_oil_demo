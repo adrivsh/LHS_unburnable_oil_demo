{
 "cells": [
  {
   "cell_type": "code",
   "execution_count": 2,
   "metadata": {
    "collapsed": true
   },
   "outputs": [],
   "source": [
    "%matplotlib inline\n",
    "%load_ext autoreload\n",
    "\n",
    "%autoreload 2\n",
    "\n",
    "import pandas as pd\n",
    "import numpy as np\n",
    "import pyDOE\n"
   ]
  },
  {
   "cell_type": "markdown",
   "metadata": {},
   "source": [
    "# number of simulations we can afford"
   ]
  },
  {
   "cell_type": "code",
   "execution_count": 3,
   "metadata": {
    "collapsed": true
   },
   "outputs": [],
   "source": [
    "n_sample=100"
   ]
  },
  {
   "cell_type": "markdown",
   "metadata": {},
   "source": [
    "# Simple case"
   ]
  },
  {
   "cell_type": "code",
   "execution_count": 4,
   "metadata": {
    "collapsed": true
   },
   "outputs": [],
   "source": [
    "## dimensions we want to cover"
   ]
  },
  {
   "cell_type": "code",
   "execution_count": 5,
   "metadata": {
    "collapsed": false
   },
   "outputs": [
    {
     "data": {
      "text/html": [
       "<div>\n",
       "<style scoped>\n",
       "    .dataframe tbody tr th:only-of-type {\n",
       "        vertical-align: middle;\n",
       "    }\n",
       "\n",
       "    .dataframe tbody tr th {\n",
       "        vertical-align: top;\n",
       "    }\n",
       "\n",
       "    .dataframe thead th {\n",
       "        text-align: right;\n",
       "    }\n",
       "</style>\n",
       "<table border=\"1\" class=\"dataframe\">\n",
       "  <thead>\n",
       "    <tr style=\"text-align: right;\">\n",
       "      <th></th>\n",
       "      <th>demand</th>\n",
       "      <th>fiscal_regime</th>\n",
       "      <th>fiscal_pressure</th>\n",
       "    </tr>\n",
       "  </thead>\n",
       "  <tbody>\n",
       "    <tr>\n",
       "      <th>0</th>\n",
       "      <td>low_1.5</td>\n",
       "      <td>a</td>\n",
       "      <td>high_taxes</td>\n",
       "    </tr>\n",
       "    <tr>\n",
       "      <th>1</th>\n",
       "      <td>med_2</td>\n",
       "      <td>b</td>\n",
       "      <td>low_taxes</td>\n",
       "    </tr>\n",
       "    <tr>\n",
       "      <th>2</th>\n",
       "      <td>high_3</td>\n",
       "      <td>NaN</td>\n",
       "      <td>NaN</td>\n",
       "    </tr>\n",
       "  </tbody>\n",
       "</table>\n",
       "</div>"
      ],
      "text/plain": [
       "    demand fiscal_regime fiscal_pressure\n",
       "0  low_1.5             a      high_taxes\n",
       "1    med_2             b       low_taxes\n",
       "2   high_3           NaN             NaN"
      ]
     },
     "execution_count": 5,
     "metadata": {},
     "output_type": "execute_result"
    }
   ],
   "source": [
    "doe_params  = pd.read_excel(\"doe_parameters.xlsx\", sheet_name=\"simple_case\")\n",
    "doe_params"
   ]
  },
  {
   "cell_type": "code",
   "execution_count": 6,
   "metadata": {
    "collapsed": false
   },
   "outputs": [
    {
     "data": {
      "text/plain": [
       "3"
      ]
     },
     "execution_count": 6,
     "metadata": {},
     "output_type": "execute_result"
    }
   ],
   "source": [
    "n_dim = doe_params.shape[1]\n",
    "n_dim"
   ]
  },
  {
   "cell_type": "markdown",
   "metadata": {},
   "source": [
    "## count number of possibilities per paramter"
   ]
  },
  {
   "cell_type": "code",
   "execution_count": 6,
   "metadata": {
    "collapsed": false
   },
   "outputs": [
    {
     "data": {
      "text/plain": [
       "{'demand': {0: 'low_1.5', 1: 'med_2', 2: 'high_3'},\n",
       " 'fiscal_regime': {0: 'a', 1: 'b'},\n",
       " 'fiscal_pressure': {0: 'high_taxes', 1: 'low_taxes'}}"
      ]
     },
     "execution_count": 6,
     "metadata": {},
     "output_type": "execute_result"
    }
   ],
   "source": [
    "## hack to remove nans (not used)\n",
    "doe_params_dict = dict((k, v.dropna().to_dict()) for k, v in pd.compat.iteritems(doe_params))\n",
    "doe_params_dict"
   ]
  },
  {
   "cell_type": "code",
   "execution_count": 7,
   "metadata": {
    "collapsed": false
   },
   "outputs": [
    {
     "data": {
      "text/plain": [
       "demand             3\n",
       "fiscal_regime      2\n",
       "fiscal_pressure    2\n",
       "dtype: int64"
      ]
     },
     "execution_count": 7,
     "metadata": {},
     "output_type": "execute_result"
    }
   ],
   "source": [
    "possibilities_per_dim = doe_params.apply(lambda col:len(col.dropna().unique()))\n",
    "possibilities_per_dim"
   ]
  },
  {
   "cell_type": "markdown",
   "metadata": {},
   "source": [
    "## generate normalized DOE"
   ]
  },
  {
   "cell_type": "code",
   "execution_count": 8,
   "metadata": {
    "collapsed": false
   },
   "outputs": [
    {
     "name": "stdout",
     "output_type": "stream",
     "text": [
      "new candidate solution found with max,abs corrcoef = 0.9999999753722308\n"
     ]
    },
    {
     "data": {
      "text/html": [
       "<div>\n",
       "<style scoped>\n",
       "    .dataframe tbody tr th:only-of-type {\n",
       "        vertical-align: middle;\n",
       "    }\n",
       "\n",
       "    .dataframe tbody tr th {\n",
       "        vertical-align: top;\n",
       "    }\n",
       "\n",
       "    .dataframe thead th {\n",
       "        text-align: right;\n",
       "    }\n",
       "</style>\n",
       "<table border=\"1\" class=\"dataframe\">\n",
       "  <thead>\n",
       "    <tr style=\"text-align: right;\">\n",
       "      <th></th>\n",
       "      <th>demand</th>\n",
       "      <th>fiscal_regime</th>\n",
       "      <th>fiscal_pressure</th>\n",
       "    </tr>\n",
       "  </thead>\n",
       "  <tbody>\n",
       "    <tr>\n",
       "      <th>0</th>\n",
       "      <td>0.419290</td>\n",
       "      <td>0.353127</td>\n",
       "      <td>0.944905</td>\n",
       "    </tr>\n",
       "    <tr>\n",
       "      <th>1</th>\n",
       "      <td>0.457847</td>\n",
       "      <td>0.039758</td>\n",
       "      <td>0.099585</td>\n",
       "    </tr>\n",
       "    <tr>\n",
       "      <th>2</th>\n",
       "      <td>0.966099</td>\n",
       "      <td>0.506190</td>\n",
       "      <td>0.290736</td>\n",
       "    </tr>\n",
       "    <tr>\n",
       "      <th>3</th>\n",
       "      <td>0.392735</td>\n",
       "      <td>0.988729</td>\n",
       "      <td>0.913856</td>\n",
       "    </tr>\n",
       "    <tr>\n",
       "      <th>4</th>\n",
       "      <td>0.388577</td>\n",
       "      <td>0.639940</td>\n",
       "      <td>0.762169</td>\n",
       "    </tr>\n",
       "    <tr>\n",
       "      <th>5</th>\n",
       "      <td>0.834199</td>\n",
       "      <td>0.539405</td>\n",
       "      <td>0.118860</td>\n",
       "    </tr>\n",
       "    <tr>\n",
       "      <th>6</th>\n",
       "      <td>0.156826</td>\n",
       "      <td>0.775701</td>\n",
       "      <td>0.815746</td>\n",
       "    </tr>\n",
       "    <tr>\n",
       "      <th>7</th>\n",
       "      <td>0.692198</td>\n",
       "      <td>0.871420</td>\n",
       "      <td>0.127967</td>\n",
       "    </tr>\n",
       "    <tr>\n",
       "      <th>8</th>\n",
       "      <td>0.903412</td>\n",
       "      <td>0.227079</td>\n",
       "      <td>0.133102</td>\n",
       "    </tr>\n",
       "    <tr>\n",
       "      <th>9</th>\n",
       "      <td>0.556808</td>\n",
       "      <td>0.676477</td>\n",
       "      <td>0.740663</td>\n",
       "    </tr>\n",
       "  </tbody>\n",
       "</table>\n",
       "</div>"
      ],
      "text/plain": [
       "     demand  fiscal_regime  fiscal_pressure\n",
       "0  0.419290       0.353127         0.944905\n",
       "1  0.457847       0.039758         0.099585\n",
       "2  0.966099       0.506190         0.290736\n",
       "3  0.392735       0.988729         0.913856\n",
       "4  0.388577       0.639940         0.762169\n",
       "5  0.834199       0.539405         0.118860\n",
       "6  0.156826       0.775701         0.815746\n",
       "7  0.692198       0.871420         0.127967\n",
       "8  0.903412       0.227079         0.133102\n",
       "9  0.556808       0.676477         0.740663"
      ]
     },
     "execution_count": 8,
     "metadata": {},
     "output_type": "execute_result"
    }
   ],
   "source": [
    "norm_doe = pd.DataFrame ( pyDOE.lhs( n_dim , samples= n_sample, criterion = \"corr\" , iterations=10000), columns= doe_params.columns )\n",
    "norm_doe.head(10)"
   ]
  },
  {
   "cell_type": "markdown",
   "metadata": {},
   "source": [
    "The output of DOE is a matrix with n_dim columns in [0,1] (the values of the dimensions) and n_sample lines. Each line is a simulation, each colmun is the value to be simulated"
   ]
  },
  {
   "cell_type": "code",
   "execution_count": 9,
   "metadata": {
    "collapsed": false
   },
   "outputs": [
    {
     "data": {
      "text/plain": [
       "(100, 3)"
      ]
     },
     "execution_count": 9,
     "metadata": {},
     "output_type": "execute_result"
    }
   ],
   "source": [
    "norm_doe.shape"
   ]
  },
  {
   "cell_type": "code",
   "execution_count": 10,
   "metadata": {
    "collapsed": false
   },
   "outputs": [
    {
     "data": {
      "text/html": [
       "<div>\n",
       "<style scoped>\n",
       "    .dataframe tbody tr th:only-of-type {\n",
       "        vertical-align: middle;\n",
       "    }\n",
       "\n",
       "    .dataframe tbody tr th {\n",
       "        vertical-align: top;\n",
       "    }\n",
       "\n",
       "    .dataframe thead th {\n",
       "        text-align: right;\n",
       "    }\n",
       "</style>\n",
       "<table border=\"1\" class=\"dataframe\">\n",
       "  <thead>\n",
       "    <tr style=\"text-align: right;\">\n",
       "      <th></th>\n",
       "      <th>demand</th>\n",
       "      <th>fiscal_regime</th>\n",
       "      <th>fiscal_pressure</th>\n",
       "    </tr>\n",
       "  </thead>\n",
       "  <tbody>\n",
       "    <tr>\n",
       "      <th>demand</th>\n",
       "      <td>1.000000</td>\n",
       "      <td>0.141176</td>\n",
       "      <td>-0.085587</td>\n",
       "    </tr>\n",
       "    <tr>\n",
       "      <th>fiscal_regime</th>\n",
       "      <td>0.141176</td>\n",
       "      <td>1.000000</td>\n",
       "      <td>0.022970</td>\n",
       "    </tr>\n",
       "    <tr>\n",
       "      <th>fiscal_pressure</th>\n",
       "      <td>-0.085587</td>\n",
       "      <td>0.022970</td>\n",
       "      <td>1.000000</td>\n",
       "    </tr>\n",
       "  </tbody>\n",
       "</table>\n",
       "</div>"
      ],
      "text/plain": [
       "                   demand  fiscal_regime  fiscal_pressure\n",
       "demand           1.000000       0.141176        -0.085587\n",
       "fiscal_regime    0.141176       1.000000         0.022970\n",
       "fiscal_pressure -0.085587       0.022970         1.000000"
      ]
     },
     "execution_count": 10,
     "metadata": {},
     "output_type": "execute_result"
    }
   ],
   "source": [
    "#check that the outputs are not correlated\n",
    "norm_doe.corr()"
   ]
  },
  {
   "cell_type": "markdown",
   "metadata": {},
   "source": [
    "## OUTPUT : cut the normalized doe in discrete choices"
   ]
  },
  {
   "cell_type": "code",
   "execution_count": 15,
   "metadata": {
    "collapsed": false
   },
   "outputs": [
    {
     "data": {
      "text/html": [
       "<div>\n",
       "<style scoped>\n",
       "    .dataframe tbody tr th:only-of-type {\n",
       "        vertical-align: middle;\n",
       "    }\n",
       "\n",
       "    .dataframe tbody tr th {\n",
       "        vertical-align: top;\n",
       "    }\n",
       "\n",
       "    .dataframe thead th {\n",
       "        text-align: right;\n",
       "    }\n",
       "</style>\n",
       "<table border=\"1\" class=\"dataframe\">\n",
       "  <thead>\n",
       "    <tr style=\"text-align: right;\">\n",
       "      <th></th>\n",
       "      <th>demand</th>\n",
       "      <th>fiscal_regime</th>\n",
       "      <th>fiscal_pressure</th>\n",
       "    </tr>\n",
       "  </thead>\n",
       "  <tbody>\n",
       "    <tr>\n",
       "      <th>98</th>\n",
       "      <td>high_3</td>\n",
       "      <td>b</td>\n",
       "      <td>high_taxes</td>\n",
       "    </tr>\n",
       "    <tr>\n",
       "      <th>76</th>\n",
       "      <td>high_3</td>\n",
       "      <td>a</td>\n",
       "      <td>high_taxes</td>\n",
       "    </tr>\n",
       "    <tr>\n",
       "      <th>9</th>\n",
       "      <td>med_2</td>\n",
       "      <td>b</td>\n",
       "      <td>low_taxes</td>\n",
       "    </tr>\n",
       "    <tr>\n",
       "      <th>81</th>\n",
       "      <td>high_3</td>\n",
       "      <td>a</td>\n",
       "      <td>high_taxes</td>\n",
       "    </tr>\n",
       "    <tr>\n",
       "      <th>11</th>\n",
       "      <td>high_3</td>\n",
       "      <td>b</td>\n",
       "      <td>high_taxes</td>\n",
       "    </tr>\n",
       "    <tr>\n",
       "      <th>62</th>\n",
       "      <td>high_3</td>\n",
       "      <td>a</td>\n",
       "      <td>high_taxes</td>\n",
       "    </tr>\n",
       "    <tr>\n",
       "      <th>5</th>\n",
       "      <td>high_3</td>\n",
       "      <td>b</td>\n",
       "      <td>high_taxes</td>\n",
       "    </tr>\n",
       "    <tr>\n",
       "      <th>4</th>\n",
       "      <td>med_2</td>\n",
       "      <td>b</td>\n",
       "      <td>low_taxes</td>\n",
       "    </tr>\n",
       "    <tr>\n",
       "      <th>52</th>\n",
       "      <td>med_2</td>\n",
       "      <td>a</td>\n",
       "      <td>high_taxes</td>\n",
       "    </tr>\n",
       "    <tr>\n",
       "      <th>8</th>\n",
       "      <td>high_3</td>\n",
       "      <td>a</td>\n",
       "      <td>high_taxes</td>\n",
       "    </tr>\n",
       "  </tbody>\n",
       "</table>\n",
       "</div>"
      ],
      "text/plain": [
       "    demand fiscal_regime fiscal_pressure\n",
       "98  high_3             b      high_taxes\n",
       "76  high_3             a      high_taxes\n",
       "9    med_2             b       low_taxes\n",
       "81  high_3             a      high_taxes\n",
       "11  high_3             b      high_taxes\n",
       "62  high_3             a      high_taxes\n",
       "5   high_3             b      high_taxes\n",
       "4    med_2             b       low_taxes\n",
       "52   med_2             a      high_taxes\n",
       "8   high_3             a      high_taxes"
      ]
     },
     "execution_count": 15,
     "metadata": {},
     "output_type": "execute_result"
    }
   ],
   "source": [
    "df=pd.DataFrame()\n",
    "for c in norm_doe:\n",
    "    df[c] = pd.cut(norm_doe[c], bins = possibilities_per_dim[c],  labels=doe_params[c].dropna())\n",
    "    \n",
    "df.sample(10)    "
   ]
  },
  {
   "cell_type": "markdown",
   "metadata": {},
   "source": [
    "# function for simple case"
   ]
  },
  {
   "cell_type": "code",
   "execution_count": 7,
   "metadata": {
    "collapsed": true
   },
   "outputs": [],
   "source": [
    "from generate_doe import generate_doe\n",
    "    \n",
    "\n"
   ]
  },
  {
   "cell_type": "code",
   "execution_count": 8,
   "metadata": {
    "collapsed": false
   },
   "outputs": [
    {
     "name": "stdout",
     "output_type": "stream",
     "text": [
      "hi\n",
      "ndim=3\n",
      "possibilities_per_dim demand             3\n",
      "fiscal_regime      2\n",
      "fiscal_pressure    2\n",
      "dtype: int64\n",
      "new candidate solution found with max,abs corrcoef = 0.9999997234913477\n",
      "correlation                    demand  fiscal_regime  fiscal_pressure\n",
      "demand           1.000000      -0.022413         0.192779\n",
      "fiscal_regime   -0.022413       1.000000         0.120851\n",
      "fiscal_pressure  0.192779       0.120851         1.000000\n"
     ]
    }
   ],
   "source": [
    "df = generate_doe(n_sample,doe_params, verbose=True)"
   ]
  },
  {
   "cell_type": "markdown",
   "metadata": {},
   "source": [
    "## double check output"
   ]
  },
  {
   "cell_type": "code",
   "execution_count": 9,
   "metadata": {
    "collapsed": false
   },
   "outputs": [
    {
     "data": {
      "text/html": [
       "<div>\n",
       "<style scoped>\n",
       "    .dataframe tbody tr th:only-of-type {\n",
       "        vertical-align: middle;\n",
       "    }\n",
       "\n",
       "    .dataframe tbody tr th {\n",
       "        vertical-align: top;\n",
       "    }\n",
       "\n",
       "    .dataframe thead th {\n",
       "        text-align: right;\n",
       "    }\n",
       "</style>\n",
       "<table border=\"1\" class=\"dataframe\">\n",
       "  <thead>\n",
       "    <tr style=\"text-align: right;\">\n",
       "      <th></th>\n",
       "      <th>demand</th>\n",
       "      <th>fiscal_regime</th>\n",
       "      <th>fiscal_pressure</th>\n",
       "    </tr>\n",
       "  </thead>\n",
       "  <tbody>\n",
       "    <tr>\n",
       "      <th>count</th>\n",
       "      <td>100</td>\n",
       "      <td>100</td>\n",
       "      <td>100</td>\n",
       "    </tr>\n",
       "    <tr>\n",
       "      <th>unique</th>\n",
       "      <td>3</td>\n",
       "      <td>2</td>\n",
       "      <td>2</td>\n",
       "    </tr>\n",
       "    <tr>\n",
       "      <th>top</th>\n",
       "      <td>low_1.5</td>\n",
       "      <td>b</td>\n",
       "      <td>low_taxes</td>\n",
       "    </tr>\n",
       "    <tr>\n",
       "      <th>freq</th>\n",
       "      <td>34</td>\n",
       "      <td>50</td>\n",
       "      <td>50</td>\n",
       "    </tr>\n",
       "  </tbody>\n",
       "</table>\n",
       "</div>"
      ],
      "text/plain": [
       "         demand fiscal_regime fiscal_pressure\n",
       "count       100           100             100\n",
       "unique        3             2               2\n",
       "top     low_1.5             b       low_taxes\n",
       "freq         34            50              50"
      ]
     },
     "execution_count": 9,
     "metadata": {},
     "output_type": "execute_result"
    }
   ],
   "source": [
    "df.describe()"
   ]
  },
  {
   "cell_type": "code",
   "execution_count": 10,
   "metadata": {
    "collapsed": false
   },
   "outputs": [
    {
     "data": {
      "text/plain": [
       "high_3        33.0\n",
       "med_2         33.0\n",
       "low_1.5       34.0\n",
       "a             50.0\n",
       "b             50.0\n",
       "high_taxes    50.0\n",
       "low_taxes     50.0\n",
       "dtype: float64"
      ]
     },
     "execution_count": 10,
     "metadata": {},
     "output_type": "execute_result"
    }
   ],
   "source": [
    "df.apply(pd.value_counts).sum(axis=1).sort_values()"
   ]
  },
  {
   "cell_type": "markdown",
   "metadata": {},
   "source": [
    "This above shows that the values with 3 possibilities appeared 33% times and the values with 2 appeared 50 %times"
   ]
  },
  {
   "cell_type": "code",
   "execution_count": 11,
   "metadata": {
    "collapsed": false
   },
   "outputs": [
    {
     "data": {
      "text/html": [
       "<div>\n",
       "<style scoped>\n",
       "    .dataframe tbody tr th:only-of-type {\n",
       "        vertical-align: middle;\n",
       "    }\n",
       "\n",
       "    .dataframe tbody tr th {\n",
       "        vertical-align: top;\n",
       "    }\n",
       "\n",
       "    .dataframe thead th {\n",
       "        text-align: right;\n",
       "    }\n",
       "</style>\n",
       "<table border=\"1\" class=\"dataframe\">\n",
       "  <thead>\n",
       "    <tr style=\"text-align: right;\">\n",
       "      <th></th>\n",
       "      <th>demand</th>\n",
       "      <th>fiscal_regime</th>\n",
       "      <th>fiscal_pressure</th>\n",
       "    </tr>\n",
       "  </thead>\n",
       "  <tbody>\n",
       "    <tr>\n",
       "      <th>0</th>\n",
       "      <td>high_3</td>\n",
       "      <td>b</td>\n",
       "      <td>low_taxes</td>\n",
       "    </tr>\n",
       "    <tr>\n",
       "      <th>1</th>\n",
       "      <td>med_2</td>\n",
       "      <td>a</td>\n",
       "      <td>low_taxes</td>\n",
       "    </tr>\n",
       "    <tr>\n",
       "      <th>2</th>\n",
       "      <td>low_1.5</td>\n",
       "      <td>b</td>\n",
       "      <td>high_taxes</td>\n",
       "    </tr>\n",
       "    <tr>\n",
       "      <th>3</th>\n",
       "      <td>med_2</td>\n",
       "      <td>b</td>\n",
       "      <td>low_taxes</td>\n",
       "    </tr>\n",
       "    <tr>\n",
       "      <th>4</th>\n",
       "      <td>low_1.5</td>\n",
       "      <td>a</td>\n",
       "      <td>high_taxes</td>\n",
       "    </tr>\n",
       "    <tr>\n",
       "      <th>5</th>\n",
       "      <td>low_1.5</td>\n",
       "      <td>b</td>\n",
       "      <td>low_taxes</td>\n",
       "    </tr>\n",
       "    <tr>\n",
       "      <th>6</th>\n",
       "      <td>high_3</td>\n",
       "      <td>a</td>\n",
       "      <td>low_taxes</td>\n",
       "    </tr>\n",
       "    <tr>\n",
       "      <th>7</th>\n",
       "      <td>high_3</td>\n",
       "      <td>a</td>\n",
       "      <td>high_taxes</td>\n",
       "    </tr>\n",
       "    <tr>\n",
       "      <th>10</th>\n",
       "      <td>med_2</td>\n",
       "      <td>a</td>\n",
       "      <td>high_taxes</td>\n",
       "    </tr>\n",
       "    <tr>\n",
       "      <th>12</th>\n",
       "      <td>med_2</td>\n",
       "      <td>b</td>\n",
       "      <td>high_taxes</td>\n",
       "    </tr>\n",
       "    <tr>\n",
       "      <th>17</th>\n",
       "      <td>high_3</td>\n",
       "      <td>b</td>\n",
       "      <td>high_taxes</td>\n",
       "    </tr>\n",
       "    <tr>\n",
       "      <th>20</th>\n",
       "      <td>low_1.5</td>\n",
       "      <td>a</td>\n",
       "      <td>low_taxes</td>\n",
       "    </tr>\n",
       "  </tbody>\n",
       "</table>\n",
       "</div>"
      ],
      "text/plain": [
       "     demand fiscal_regime fiscal_pressure\n",
       "0    high_3             b       low_taxes\n",
       "1     med_2             a       low_taxes\n",
       "2   low_1.5             b      high_taxes\n",
       "3     med_2             b       low_taxes\n",
       "4   low_1.5             a      high_taxes\n",
       "5   low_1.5             b       low_taxes\n",
       "6    high_3             a       low_taxes\n",
       "7    high_3             a      high_taxes\n",
       "10    med_2             a      high_taxes\n",
       "12    med_2             b      high_taxes\n",
       "17   high_3             b      high_taxes\n",
       "20  low_1.5             a       low_taxes"
      ]
     },
     "execution_count": 11,
     "metadata": {},
     "output_type": "execute_result"
    }
   ],
   "source": [
    "df.drop_duplicates()"
   ]
  },
  {
   "cell_type": "markdown",
   "metadata": {},
   "source": [
    "# Combining LHS dimensions in main dimensions"
   ]
  },
  {
   "cell_type": "code",
   "execution_count": null,
   "metadata": {
    "collapsed": true
   },
   "outputs": [],
   "source": []
  }
 ],
 "metadata": {
  "kernelspec": {
   "display_name": "Python 3",
   "language": "python",
   "name": "python3"
  },
  "language_info": {
   "codemirror_mode": {
    "name": "ipython",
    "version": 3
   },
   "file_extension": ".py",
   "mimetype": "text/x-python",
   "name": "python",
   "nbconvert_exporter": "python",
   "pygments_lexer": "ipython3",
   "version": "3.6.0"
  },
  "toc": {
   "colors": {
    "hover_highlight": "#DAA520",
    "navigate_num": "#000000",
    "navigate_text": "#333333",
    "running_highlight": "#FF0000",
    "selected_highlight": "#FFD700",
    "sidebar_border": "#EEEEEE",
    "wrapper_background": "#FFFFFF"
   },
   "moveMenuLeft": true,
   "nav_menu": {
    "height": "173px",
    "width": "252px"
   },
   "navigate_menu": true,
   "number_sections": true,
   "sideBar": true,
   "threshold": 4,
   "toc_cell": false,
   "toc_section_display": "block",
   "toc_window_display": false,
   "widenNotebook": false
  }
 },
 "nbformat": 4,
 "nbformat_minor": 2
}
